{
 "cells": [
  {
   "cell_type": "code",
   "execution_count": 2,
   "metadata": {},
   "outputs": [
    {
     "name": "stdout",
     "output_type": "stream",
     "text": [
      "root\n",
      " |-- id: integer (nullable = true)\n",
      " |-- zipcode: integer (nullable = true)\n",
      " |-- type: string (nullable = true)\n",
      " |-- city: string (nullable = true)\n",
      " |-- state: string (nullable = true)\n",
      " |-- population: integer (nullable = true)\n",
      "\n",
      "+---+-------+--------+-------------------+-----+----------+\n",
      "|id |zipcode|type    |city               |state|population|\n",
      "+---+-------+--------+-------------------+-----+----------+\n",
      "|1  |704    |STANDARD|NULL               |PR   |30100     |\n",
      "|2  |704    |NULL    |PASEO COSTA DEL SUR|PR   |NULL      |\n",
      "|3  |709    |NULL    |BDA SAN LUIS       |PR   |3700      |\n",
      "|4  |76166  |UNIQUE  |CINGULAR WIRELESS  |TX   |84000     |\n",
      "|5  |76177  |STANDARD|NULL               |TX   |NULL      |\n",
      "+---+-------+--------+-------------------+-----+----------+\n",
      "\n"
     ]
    }
   ],
   "source": [
    "#we use the findspark library to locate spark on our local machine\n",
    "import findspark\n",
    "findspark.init(r'C:\\spark\\spark-3.5.0-bin-hadoop3')\n",
    "import pyspark # only run this after findspark.init()\n",
    "from pyspark.sql import SparkSession\n",
    "\n",
    "spark: SparkSession = SparkSession.builder \\\n",
    "    .master(\"local[1]\") \\\n",
    "    .appName(\"SparkByExamples.com\") \\\n",
    "    .getOrCreate()\n",
    "\n",
    "filePath=\"resources/small_zipcode.csv\"\n",
    "df = spark.read.options(header='true', inferSchema='true') \\\n",
    "          .csv(filePath)\n",
    "\n",
    "df.printSchema()\n",
    "df.show(truncate=False)"
   ]
  },
  {
   "cell_type": "code",
   "execution_count": 3,
   "metadata": {},
   "outputs": [
    {
     "name": "stdout",
     "output_type": "stream",
     "text": [
      "+---+-------+------+-----------------+-----+----------+\n",
      "|id |zipcode|type  |city             |state|population|\n",
      "+---+-------+------+-----------------+-----+----------+\n",
      "|4  |76166  |UNIQUE|CINGULAR WIRELESS|TX   |84000     |\n",
      "+---+-------+------+-----------------+-----+----------+\n",
      "\n"
     ]
    }
   ],
   "source": [
    "df.na.drop().show(truncate=False)"
   ]
  },
  {
   "cell_type": "code",
   "execution_count": 4,
   "metadata": {},
   "outputs": [
    {
     "name": "stdout",
     "output_type": "stream",
     "text": [
      "+---+-------+------+-----------------+-----+----------+\n",
      "|id |zipcode|type  |city             |state|population|\n",
      "+---+-------+------+-----------------+-----+----------+\n",
      "|4  |76166  |UNIQUE|CINGULAR WIRELESS|TX   |84000     |\n",
      "+---+-------+------+-----------------+-----+----------+\n",
      "\n"
     ]
    }
   ],
   "source": [
    "df.na.drop(how=\"any\").show(truncate=False)"
   ]
  },
  {
   "cell_type": "code",
   "execution_count": 5,
   "metadata": {},
   "outputs": [
    {
     "name": "stdout",
     "output_type": "stream",
     "text": [
      "+---+-------+--------+-----------------+-----+----------+\n",
      "|id |zipcode|type    |city             |state|population|\n",
      "+---+-------+--------+-----------------+-----+----------+\n",
      "|1  |704    |STANDARD|NULL             |PR   |30100     |\n",
      "|4  |76166  |UNIQUE  |CINGULAR WIRELESS|TX   |84000     |\n",
      "+---+-------+--------+-----------------+-----+----------+\n",
      "\n"
     ]
    }
   ],
   "source": [
    "df.na.drop(subset=[\"population\",\"type\"]) \\\n",
    "   .show(truncate=False)"
   ]
  },
  {
   "cell_type": "code",
   "execution_count": 6,
   "metadata": {},
   "outputs": [
    {
     "name": "stdout",
     "output_type": "stream",
     "text": [
      "+---+-------+------+-----------------+-----+----------+\n",
      "|id |zipcode|type  |city             |state|population|\n",
      "+---+-------+------+-----------------+-----+----------+\n",
      "|4  |76166  |UNIQUE|CINGULAR WIRELESS|TX   |84000     |\n",
      "+---+-------+------+-----------------+-----+----------+\n",
      "\n"
     ]
    }
   ],
   "source": [
    "df.dropna().show(truncate=False)"
   ]
  }
 ],
 "metadata": {
  "kernelspec": {
   "display_name": "Python 3",
   "language": "python",
   "name": "python3"
  },
  "language_info": {
   "codemirror_mode": {
    "name": "ipython",
    "version": 3
   },
   "file_extension": ".py",
   "mimetype": "text/x-python",
   "name": "python",
   "nbconvert_exporter": "python",
   "pygments_lexer": "ipython3",
   "version": "3.11.4"
  }
 },
 "nbformat": 4,
 "nbformat_minor": 2
}
